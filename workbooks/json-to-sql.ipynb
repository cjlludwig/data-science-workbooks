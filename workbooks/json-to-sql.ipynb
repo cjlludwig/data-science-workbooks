{
 "cells": [
  {
   "cell_type": "code",
   "execution_count": 20,
   "metadata": {},
   "outputs": [],
   "source": [
    "from pyspark.sql import SparkSession\n",
    "\n",
    "try:\n",
    "  spark = SparkSession.builder.getOrCreate()\n",
    "  sc = spark.sparkContext\n",
    "except:\n",
    "  print(\"Already running.\")"
   ]
  },
  {
   "cell_type": "code",
   "execution_count": 27,
   "metadata": {},
   "outputs": [
    {
     "data": {
      "text/plain": [
       "['{\"id\": \"1\", \"name\": \"Connor\", \"gender\": \"CIS-MALE\", \"isGraduated\": true, \"createdAt\": \"2023-01-18T00:00:01Z\", \"languages\": [\"English\"], \"programmingLanguages\": [\"Java\", \"C++\", \"TypeScript\", \"JavaScript\", \"Python\", \"SQL\"], \"workExperiences\": [{\"company\": \"John Deere\", \"location\": \"Urbandale\", \"years\": 5}]}']"
      ]
     },
     "execution_count": 27,
     "metadata": {},
     "output_type": "execute_result"
    }
   ],
   "source": [
    "import json\n",
    "\n",
    "exampleJsonRecord = {\n",
    "  \"id\": \"1\",\n",
    "  \"name\": \"Connor\",\n",
    "  \"gender\": \"CIS-MALE\",\n",
    "  \"isGraduated\": True,\n",
    "  \"createdAt\": \"2023-01-18T00:00:01Z\",\n",
    "  \"languages\": [\n",
    "    \"English\"\n",
    "  ],\n",
    "  \"programmingLanguages\": [\n",
    "    \"Java\",\n",
    "    \"C++\",\n",
    "    \"TypeScript\",\n",
    "    \"JavaScript\",\n",
    "    \"Python\",\n",
    "    \"SQL\"\n",
    "  ],\n",
    "  \"workExperiences\": [\n",
    "    {\n",
    "      \"company\": \"John Deere\",\n",
    "      \"location\": \"Urbandale\",\n",
    "      \"years\": 5\n",
    "    }\n",
    "  ]\n",
    "}\n",
    "jsonStrings = [json.dumps(exampleJsonRecord)]\n",
    "jsonStrings"
   ]
  },
  {
   "cell_type": "code",
   "execution_count": 28,
   "metadata": {},
   "outputs": [
    {
     "name": "stdout",
     "output_type": "stream",
     "text": [
      "+--------------------+--------+---+-----------+---------+------+--------------------+--------------------+\n",
      "|           createdAt|  gender| id|isGraduated|languages|  name|programmingLanguages|     workExperiences|\n",
      "+--------------------+--------+---+-----------+---------+------+--------------------+--------------------+\n",
      "|2023-01-18T00:00:01Z|CIS-MALE|  1|       true|[English]|Connor|[Java, C++, TypeS...|[{John Deere, Urb...|\n",
      "+--------------------+--------+---+-----------+---------+------+--------------------+--------------------+\n",
      "\n"
     ]
    }
   ],
   "source": [
    "peopleRDD = sc.parallelize(jsonStrings)\n",
    "people = spark.read.json(peopleRDD)\n",
    "people.show()"
   ]
  },
  {
   "cell_type": "code",
   "execution_count": 29,
   "metadata": {},
   "outputs": [],
   "source": [
    "people.createOrReplaceGlobalTempView(\"people\")"
   ]
  },
  {
   "cell_type": "code",
   "execution_count": 30,
   "metadata": {},
   "outputs": [
    {
     "name": "stdout",
     "output_type": "stream",
     "text": [
      "+--------------------+--------+---+-----------+---------+------+--------------------+--------------------+\n",
      "|           createdAt|  gender| id|isGraduated|languages|  name|programmingLanguages|     workExperiences|\n",
      "+--------------------+--------+---+-----------+---------+------+--------------------+--------------------+\n",
      "|2023-01-18T00:00:01Z|CIS-MALE|  1|       true|[English]|Connor|[Java, C++, TypeS...|[{John Deere, Urb...|\n",
      "+--------------------+--------+---+-----------+---------+------+--------------------+--------------------+\n",
      "\n"
     ]
    }
   ],
   "source": [
    "spark.sql(\"\"\"\n",
    "  SELECT * FROM global_temp.people\n",
    "\"\"\").show()"
   ]
  },
  {
   "cell_type": "code",
   "execution_count": 54,
   "metadata": {},
   "outputs": [],
   "source": [
    "\n",
    "from pyspark.sql.functions import explode,map_keys,col,flatten\n",
    "\n",
    "companies = people.select(explode(people.workExperiences), col(\"col\").alias(\"companies\")).drop(\"col\")\n",
    "companies.select(col(\"companies.*\")).createOrReplaceGlobalTempView(\"companies\")\n",
    "\n",
    "languages = people.select(explode(people.languages), col(\"col\").alias(\"languages\")).drop(\"col\")\n",
    "languages.createOrReplaceGlobalTempView(\"languages\")\n",
    "\n",
    "programmingLanguages = people.select(explode(people.programmingLanguages), col(\"col\").alias(\"programmingLanguages\")).drop(\"col\")\n",
    "programmingLanguages.createOrReplaceGlobalTempView(\"programmingLanguages\")"
   ]
  },
  {
   "cell_type": "code",
   "execution_count": 51,
   "metadata": {},
   "outputs": [
    {
     "name": "stdout",
     "output_type": "stream",
     "text": [
      "+----------+---------+-----+\n",
      "|   company| location|years|\n",
      "+----------+---------+-----+\n",
      "|John Deere|Urbandale|    5|\n",
      "+----------+---------+-----+\n",
      "\n"
     ]
    }
   ],
   "source": [
    "spark.sql(\"\"\"\n",
    "  SELECT * FROM global_temp.companies\n",
    "\"\"\").show()"
   ]
  },
  {
   "cell_type": "code",
   "execution_count": 55,
   "metadata": {},
   "outputs": [
    {
     "name": "stdout",
     "output_type": "stream",
     "text": [
      "+---------+\n",
      "|languages|\n",
      "+---------+\n",
      "|  English|\n",
      "+---------+\n",
      "\n"
     ]
    }
   ],
   "source": [
    "spark.sql(\"\"\"\n",
    "  SELECT * FROM global_temp.languages\n",
    "\"\"\").show()"
   ]
  },
  {
   "cell_type": "code",
   "execution_count": 56,
   "metadata": {},
   "outputs": [
    {
     "name": "stdout",
     "output_type": "stream",
     "text": [
      "+--------------------+\n",
      "|programmingLanguages|\n",
      "+--------------------+\n",
      "|                Java|\n",
      "|                 C++|\n",
      "|          TypeScript|\n",
      "|          JavaScript|\n",
      "|              Python|\n",
      "|                 SQL|\n",
      "+--------------------+\n",
      "\n"
     ]
    }
   ],
   "source": [
    "spark.sql(\"\"\"\n",
    "  SELECT * FROM global_temp.programmingLanguages\n",
    "\"\"\").show()"
   ]
  }
 ],
 "metadata": {
  "kernelspec": {
   "display_name": "Python 3",
   "language": "python",
   "name": "python3"
  },
  "language_info": {
   "codemirror_mode": {
    "name": "ipython",
    "version": 3
   },
   "file_extension": ".py",
   "mimetype": "text/x-python",
   "name": "python",
   "nbconvert_exporter": "python",
   "pygments_lexer": "ipython3",
   "version": "3.9.16"
  },
  "orig_nbformat": 4,
  "vscode": {
   "interpreter": {
    "hash": "949777d72b0d2535278d3dc13498b2535136f6dfe0678499012e853ee9abcab1"
   }
  }
 },
 "nbformat": 4,
 "nbformat_minor": 2
}
